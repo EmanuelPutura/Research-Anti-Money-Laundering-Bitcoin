{
  "nbformat": 4,
  "nbformat_minor": 0,
  "metadata": {
    "colab": {
      "provenance": [],
      "authorship_tag": "ABX9TyMaJC9K8dnhs33iZKSM37a6",
      "include_colab_link": true
    },
    "kernelspec": {
      "name": "python3",
      "display_name": "Python 3"
    },
    "language_info": {
      "name": "python"
    }
  },
  "cells": [
    {
      "cell_type": "markdown",
      "metadata": {
        "id": "view-in-github",
        "colab_type": "text"
      },
      "source": [
        "<a href=\"https://colab.research.google.com/github/EmanuelPutura/Research-Anti-Money-Laundering-Bitcoin/blob/main/aml_btc.ipynb\" target=\"_parent\"><img src=\"https://colab.research.google.com/assets/colab-badge.svg\" alt=\"Open In Colab\"/></a>"
      ]
    },
    {
      "cell_type": "code",
      "source": [
        "!pip install umap-learn"
      ],
      "metadata": {
        "id": "Kh5eyvgc-FC5"
      },
      "execution_count": null,
      "outputs": []
    },
    {
      "cell_type": "code",
      "source": [
        "!python ../experiments/supervised_baseline.py"
      ],
      "metadata": {
        "colab": {
          "base_uri": "https://localhost:8080/"
        },
        "id": "MhJEiY9V9M_U",
        "outputId": "feeabf02-2f46-4e69-9407-15809bf8a8b8"
      },
      "execution_count": null,
      "outputs": [
        {
          "output_type": "stream",
          "name": "stdout",
          "text": [
            "Root directory:  /content/research-aml-elliptic/src/reaml\n"
          ]
        }
      ]
    },
    {
      "cell_type": "code",
      "source": [
        "!python ../experiments/umap_data_exploration.py"
      ],
      "metadata": {
        "colab": {
          "base_uri": "https://localhost:8080/"
        },
        "id": "jp9tKZG028Na",
        "outputId": "3e918928-3556-4d16-f53c-a9979608ce51"
      },
      "execution_count": null,
      "outputs": [
        {
          "output_type": "stream",
          "name": "stdout",
          "text": [
            "Root directory:  /content/research-aml-elliptic/src/reaml\n",
            "Starting model  IF\n"
          ]
        }
      ]
    },
    {
      "cell_type": "code",
      "source": [
        "!python ../experiments/anomaly_detection_benchmark.py"
      ],
      "metadata": {
        "colab": {
          "base_uri": "https://localhost:8080/"
        },
        "id": "SoeMCtrf5mex",
        "outputId": "4194a8ae-f25e-4e1c-e383-d36f75e64c11"
      },
      "execution_count": null,
      "outputs": [
        {
          "output_type": "stream",
          "name": "stdout",
          "text": [
            "Root directory:  /content/research-aml-elliptic/src/reaml\n",
            "Starting model  PCA\n",
            "Starting model  LOF\n",
            "Starting model  CBLOF\n",
            "Starting model  IF\n",
            "Starting model  KNN\n",
            "Starting model  ABOD\n",
            "Starting model  OCSVM\n"
          ]
        }
      ]
    }
  ]
}